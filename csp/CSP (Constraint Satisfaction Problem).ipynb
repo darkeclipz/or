{
 "cells": [
  {
   "cell_type": "code",
   "execution_count": 1,
   "metadata": {
    "scrolled": false
   },
   "outputs": [
    {
     "name": "stdout",
     "output_type": "stream",
     "text": [
      "Populating the interactive namespace from numpy and matplotlib\n"
     ]
    }
   ],
   "source": [
    "%pylab inline"
   ]
  },
  {
   "cell_type": "markdown",
   "metadata": {},
   "source": [
    "# CSP Algorithms and Applications"
   ]
  },
  {
   "cell_type": "markdown",
   "metadata": {},
   "source": [
    "**Sources:**\n",
    " \n",
    " - https://www.cs.ubc.ca/~mack/CS322/lectures/3-CSP2.pdf\n",
    " - https://www.cs.colostate.edu/~asa/courses/cs440/fall09/pdfs/10_csp.pdf\n",
    "\n",
    "**Definition:** A _constraint satisfaction problem (CSP)_ consists of:\n",
    "\n",
    " * a set of variables $\\mathscr V$.\n",
    " * a domain $\\textrm{dom}(V)$ for each variable $V \\in \\mathscr V$.\n",
    " * a set of constraints $C$.\n",
    " \n",
    "An example of a CSP model is:\n",
    "\n",
    " * $\\mathscr V = \\{V_1, V_2\\}$\n",
    "   * $\\textrm{dom}(V_1) = \\{1,2,3\\}$\n",
    "   * $\\textrm{dom}(V_2) = \\{1,2\\}$\n",
    " * $C = \\{C_1,C_2,C_3\\}$\n",
    "   * $C_1: V_2 \\neq 2$\n",
    "   * $C_2: V_1 + V_2 < 5$\n",
    "   * $C_3: V_1 > V_2$\n",
    " \n",
    "**Definition**: A _model_ of a CSP is an assignment of values to all of its variables that _satisfies_ all of its constraints.\n",
    "\n",
    "**Generate and Test (GT) algorithm**: Systematically check all possible worlds. All possible worlds is the cross product of all the domains:\n",
    "\n",
    "$$ \\textrm{dom}(V_1) \\times \\textrm{dom}(V_2) \\times \\ldots \\times \\textrm{dom}(V_n) $$\n",
    "\n",
    "Generate and test:\n",
    "\n",
    " 1. Generate possible worlds one at a time.\n",
    " 2. Test constraints for each one.\n",
    " \n",
    "For $k$ variables, each with domain size $d$, and there are $c$ constraints, the complexity is $O(ck^d)$:\n",
    "\n",
    " * There are $d^k$ possible worlds.\n",
    " * For each one need to check c constraints.\n",
    " \n",
    "**Graph Searching (GS) algorithm (backtrack)**: In this algorithm we have a set of _states_, which are partial assignments of values to variables. At the start state there are no assignments. A successor function is defined with states with the next variable assigned:\n",
    "\n",
    " * E.g., follow a total order of the variables $\\{V_1,\\ldots,V_n\\}$.\n",
    " * A state assigns values to the first $k$ variables $\\{V_1,\\ldots,V_n\\}$\n",
    "   * Neighbors of node $\\{V_1 = v_1, \\ldots, V_k=v_k, V_{k+1}=x\\}$ for each $x \\in \\textrm{dom}(V_{k+1})$.\n",
    "   \n",
    "Goal state: complete assignments of values to variables that satisfy all constraints. Solution is the assignment (path does not matter).\n",
    "\n",
    "The search space can be explored via DFS but evaluate each constraint as soon as all its variables are bound (all variables in a constrant, are in scope). Any partial assignment that doesn't satisfy the constraint can be pruned.\n",
    "\n",
    "A heuristic can be added to this algorithm. An order can be applied to the checking of the variables. It should start to check the variable that is used in the most constraints first (fail early)."
   ]
  },
  {
   "cell_type": "markdown",
   "metadata": {},
   "source": [
    "# Basic algorithm implementation (`HSSolver`)"
   ]
  },
  {
   "cell_type": "code",
   "execution_count": 2,
   "metadata": {},
   "outputs": [],
   "source": [
    "import copy\n",
    "import operator\n",
    "\n",
    "def head(xs): return xs[0] if len(xs) > 0 else None\n",
    "def replace_all(text, dic):\n",
    "    for k, v in dic.items():\n",
    "        text = text.replace(k, str(v))\n",
    "    return text\n",
    "def subset(A,B): return all([a in B for a in A])\n",
    "\n",
    "class Variable():\n",
    "    def __init__(self, name, D):\n",
    "        self.name = name\n",
    "        self.domain = D\n",
    "        self.value = D[0]\n",
    "    \n",
    "    def __eq__(self, v): return v.name == self.name\n",
    "    def __repr__(self): return '{}={}'.format(self.name, self.value, self.domain)\n",
    "        \n",
    "class Constraint():\n",
    "    def __init__(self, expr, *variables):\n",
    "        self.variables = variables\n",
    "        self.expression = expr\n",
    "    def evalstr(self): return \n",
    "    def eval(self, V): \n",
    "        return eval(replace_all(self.expression, {v.name:v.value for v in V}))\n",
    "    def __repr__(self): return self.expression\n",
    "    \n",
    "class CSP():\n",
    "    def __init__(self, variables, constraints):\n",
    "        self.variables = variables\n",
    "        self.constraints = constraints\n",
    "        self.stop_on_first = False\n",
    "        \n",
    "    def solve(self):\n",
    "        self.solution = []\n",
    "        self.gt_solve([], self.variables)\n",
    "        return self.solution[::-1]\n",
    "    \n",
    "    # solving with a Generate and Test (GT) algorithm\n",
    "    #\n",
    "    # example:\n",
    "    # for a \\in dom A\n",
    "    #   for b \\in dom B\n",
    "    #      for c \\in dom C\n",
    "    #        if {A=a, B=b, C=c} return solution\n",
    "    def gt_solve(self, S, V):\n",
    "        print('(Call) S contains {}, V contains {}'.format(S,V))\n",
    "        if len(V) == 0:\n",
    "            \n",
    "            # -- eval all\n",
    "            #return all([c.eval(S) for c in self.constraints])\n",
    "            \n",
    "            # -- verbose output\n",
    "            print('  (Base) Checking constraints...')\n",
    "            for c in self.constraints:\n",
    "                r = c.eval(S)\n",
    "                if r: print('  (Satisfied) {}'.format(c))\n",
    "                else: \n",
    "                    print('  (Failed) {}'.format(c))\n",
    "                    return False\n",
    "            return True\n",
    "            \n",
    "        v = V.pop()\n",
    "        S.append(v)\n",
    "        for d in v.domain:\n",
    "            if self.solution and self.stop_on_first: return\n",
    "            v.value = d\n",
    "            if self.gt_solve(copy.deepcopy(S), copy.deepcopy(V)):\n",
    "                self.solution = S\n",
    "                print('  (Solution) {}'.format(S[::-1]))\n",
    "                return\n",
    "        return False"
   ]
  },
  {
   "cell_type": "markdown",
   "metadata": {},
   "source": [
    "## Example 1"
   ]
  },
  {
   "cell_type": "markdown",
   "metadata": {},
   "source": [
    "Testing the `gt_solve` method with the example model shown at the beginning of this document:"
   ]
  },
  {
   "cell_type": "code",
   "execution_count": 3,
   "metadata": {
    "scrolled": true
   },
   "outputs": [
    {
     "name": "stdout",
     "output_type": "stream",
     "text": [
      "(Call) S contains [], V contains [v1=1, v2=1]\n",
      "(Call) S contains [v2=1], V contains [v1=1]\n",
      "(Call) S contains [v2=1, v1=1], V contains []\n",
      "  (Base) Checking constraints...\n",
      "  (Failed) v1 != v2\n",
      "(Call) S contains [v2=1, v1=2], V contains []\n",
      "  (Base) Checking constraints...\n",
      "  (Satisfied) v1 != v2\n",
      "  (Satisfied) v1 + v2 <= 5\n",
      "  (Satisfied) v1 > v2\n",
      "  (Failed) v1 >= 3\n",
      "(Call) S contains [v2=1, v1=3], V contains []\n",
      "  (Base) Checking constraints...\n",
      "  (Satisfied) v1 != v2\n",
      "  (Satisfied) v1 + v2 <= 5\n",
      "  (Satisfied) v1 > v2\n",
      "  (Satisfied) v1 >= 3\n",
      "  (Solution) [v1=3, v2=1]\n"
     ]
    },
    {
     "data": {
      "text/plain": [
       "[v1=3, v2=1]"
      ]
     },
     "execution_count": 3,
     "metadata": {},
     "output_type": "execute_result"
    }
   ],
   "source": [
    "v1 = Variable('v1', [1,2,3])\n",
    "v2 = Variable('v2', [1,2])\n",
    "V = [v1,v2]\n",
    "c1 = Constraint('v1 != v2', v1, v2)\n",
    "c2 = Constraint('v1 + v2 <= 5', v1, v2)\n",
    "c3 = Constraint('v1 > v2', v1, v2)\n",
    "c4 = Constraint('v1 >= 3', v1)\n",
    "C = [c1,c2,c3,c4]   \n",
    "csp = CSP(V, C)\n",
    "csp.stop_on_first = True\n",
    "csp.solve()"
   ]
  },
  {
   "cell_type": "markdown",
   "metadata": {},
   "source": [
    "## Example 2\n",
    "\n",
    "Solving the Australian map coloring problem."
   ]
  },
  {
   "cell_type": "code",
   "execution_count": 4,
   "metadata": {
    "scrolled": true
   },
   "outputs": [
    {
     "name": "stdout",
     "output_type": "stream",
     "text": [
      "(Call) S contains [], V contains [SA=0, WA=0, NT=0, Q=0, NSW=0, V=0]\n",
      "(Call) S contains [V=0], V contains [SA=0, WA=0, NT=0, Q=0, NSW=0]\n",
      "(Call) S contains [V=0, NSW=0], V contains [SA=0, WA=0, NT=0, Q=0]\n",
      "(Call) S contains [V=0, NSW=0, Q=0], V contains [SA=0, WA=0, NT=0]\n",
      "(Call) S contains [V=0, NSW=0, Q=0, NT=0], V contains [SA=0, WA=0]\n",
      "(Call) S contains [V=0, NSW=0, Q=0, NT=0, WA=0], V contains [SA=0]\n",
      "(Call) S contains [V=0, NSW=0, Q=0, NT=0, WA=0, SA=0], V contains []\n",
      "  (Base) Checking constraints...\n",
      "  (Failed) SA!=WA\n",
      "(Call) S contains [V=0, NSW=0, Q=0, NT=0, WA=0, SA=1], V contains []\n",
      "  (Base) Checking constraints...\n",
      "  (Satisfied) SA!=WA\n",
      "  (Satisfied) SA!=NT\n",
      "  (Satisfied) SA!=Q\n",
      "  (Satisfied) SA!=NSW\n",
      "  (Satisfied) SA!=V\n",
      "  (Failed) WA!=NT\n",
      "(Call) S contains [V=0, NSW=0, Q=0, NT=0, WA=0, SA=2], V contains []\n",
      "  (Base) Checking constraints...\n",
      "  (Satisfied) SA!=WA\n",
      "  (Satisfied) SA!=NT\n",
      "  (Satisfied) SA!=Q\n",
      "  (Satisfied) SA!=NSW\n",
      "  (Satisfied) SA!=V\n",
      "  (Failed) WA!=NT\n",
      "(Call) S contains [V=0, NSW=0, Q=0, NT=0, WA=1], V contains [SA=0]\n",
      "(Call) S contains [V=0, NSW=0, Q=0, NT=0, WA=1, SA=0], V contains []\n",
      "  (Base) Checking constraints...\n",
      "  (Satisfied) SA!=WA\n",
      "  (Failed) SA!=NT\n",
      "(Call) S contains [V=0, NSW=0, Q=0, NT=0, WA=1, SA=1], V contains []\n",
      "  (Base) Checking constraints...\n",
      "  (Failed) SA!=WA\n",
      "(Call) S contains [V=0, NSW=0, Q=0, NT=0, WA=1, SA=2], V contains []\n",
      "  (Base) Checking constraints...\n",
      "  (Satisfied) SA!=WA\n",
      "  (Satisfied) SA!=NT\n",
      "  (Satisfied) SA!=Q\n",
      "  (Satisfied) SA!=NSW\n",
      "  (Satisfied) SA!=V\n",
      "  (Satisfied) WA!=NT\n",
      "  (Failed) NT!=Q\n",
      "(Call) S contains [V=0, NSW=0, Q=0, NT=0, WA=2], V contains [SA=0]\n",
      "(Call) S contains [V=0, NSW=0, Q=0, NT=0, WA=2, SA=0], V contains []\n",
      "  (Base) Checking constraints...\n",
      "  (Satisfied) SA!=WA\n",
      "  (Failed) SA!=NT\n",
      "(Call) S contains [V=0, NSW=0, Q=0, NT=0, WA=2, SA=1], V contains []\n",
      "  (Base) Checking constraints...\n",
      "  (Satisfied) SA!=WA\n",
      "  (Satisfied) SA!=NT\n",
      "  (Satisfied) SA!=Q\n",
      "  (Satisfied) SA!=NSW\n",
      "  (Satisfied) SA!=V\n",
      "  (Satisfied) WA!=NT\n",
      "  (Failed) NT!=Q\n",
      "(Call) S contains [V=0, NSW=0, Q=0, NT=0, WA=2, SA=2], V contains []\n",
      "  (Base) Checking constraints...\n",
      "  (Failed) SA!=WA\n",
      "(Call) S contains [V=0, NSW=0, Q=0, NT=1], V contains [SA=0, WA=0]\n",
      "(Call) S contains [V=0, NSW=0, Q=0, NT=1, WA=0], V contains [SA=0]\n",
      "(Call) S contains [V=0, NSW=0, Q=0, NT=1, WA=0, SA=0], V contains []\n",
      "  (Base) Checking constraints...\n",
      "  (Failed) SA!=WA\n",
      "(Call) S contains [V=0, NSW=0, Q=0, NT=1, WA=0, SA=1], V contains []\n",
      "  (Base) Checking constraints...\n",
      "  (Satisfied) SA!=WA\n",
      "  (Failed) SA!=NT\n",
      "(Call) S contains [V=0, NSW=0, Q=0, NT=1, WA=0, SA=2], V contains []\n",
      "  (Base) Checking constraints...\n",
      "  (Satisfied) SA!=WA\n",
      "  (Satisfied) SA!=NT\n",
      "  (Satisfied) SA!=Q\n",
      "  (Satisfied) SA!=NSW\n",
      "  (Satisfied) SA!=V\n",
      "  (Satisfied) WA!=NT\n",
      "  (Satisfied) NT!=Q\n",
      "  (Failed) Q!=NSW\n",
      "(Call) S contains [V=0, NSW=0, Q=0, NT=1, WA=1], V contains [SA=0]\n",
      "(Call) S contains [V=0, NSW=0, Q=0, NT=1, WA=1, SA=0], V contains []\n",
      "  (Base) Checking constraints...\n",
      "  (Satisfied) SA!=WA\n",
      "  (Satisfied) SA!=NT\n",
      "  (Failed) SA!=Q\n",
      "(Call) S contains [V=0, NSW=0, Q=0, NT=1, WA=1, SA=1], V contains []\n",
      "  (Base) Checking constraints...\n",
      "  (Failed) SA!=WA\n",
      "(Call) S contains [V=0, NSW=0, Q=0, NT=1, WA=1, SA=2], V contains []\n",
      "  (Base) Checking constraints...\n",
      "  (Satisfied) SA!=WA\n",
      "  (Satisfied) SA!=NT\n",
      "  (Satisfied) SA!=Q\n",
      "  (Satisfied) SA!=NSW\n",
      "  (Satisfied) SA!=V\n",
      "  (Failed) WA!=NT\n",
      "(Call) S contains [V=0, NSW=0, Q=0, NT=1, WA=2], V contains [SA=0]\n",
      "(Call) S contains [V=0, NSW=0, Q=0, NT=1, WA=2, SA=0], V contains []\n",
      "  (Base) Checking constraints...\n",
      "  (Satisfied) SA!=WA\n",
      "  (Satisfied) SA!=NT\n",
      "  (Failed) SA!=Q\n",
      "(Call) S contains [V=0, NSW=0, Q=0, NT=1, WA=2, SA=1], V contains []\n",
      "  (Base) Checking constraints...\n",
      "  (Satisfied) SA!=WA\n",
      "  (Failed) SA!=NT\n",
      "(Call) S contains [V=0, NSW=0, Q=0, NT=1, WA=2, SA=2], V contains []\n",
      "  (Base) Checking constraints...\n",
      "  (Failed) SA!=WA\n",
      "(Call) S contains [V=0, NSW=0, Q=0, NT=2], V contains [SA=0, WA=0]\n",
      "(Call) S contains [V=0, NSW=0, Q=0, NT=2, WA=0], V contains [SA=0]\n",
      "(Call) S contains [V=0, NSW=0, Q=0, NT=2, WA=0, SA=0], V contains []\n",
      "  (Base) Checking constraints...\n",
      "  (Failed) SA!=WA\n",
      "(Call) S contains [V=0, NSW=0, Q=0, NT=2, WA=0, SA=1], V contains []\n",
      "  (Base) Checking constraints...\n",
      "  (Satisfied) SA!=WA\n",
      "  (Satisfied) SA!=NT\n",
      "  (Satisfied) SA!=Q\n",
      "  (Satisfied) SA!=NSW\n",
      "  (Satisfied) SA!=V\n",
      "  (Satisfied) WA!=NT\n",
      "  (Satisfied) NT!=Q\n",
      "  (Failed) Q!=NSW\n",
      "(Call) S contains [V=0, NSW=0, Q=0, NT=2, WA=0, SA=2], V contains []\n",
      "  (Base) Checking constraints...\n",
      "  (Satisfied) SA!=WA\n",
      "  (Failed) SA!=NT\n",
      "(Call) S contains [V=0, NSW=0, Q=0, NT=2, WA=1], V contains [SA=0]\n",
      "(Call) S contains [V=0, NSW=0, Q=0, NT=2, WA=1, SA=0], V contains []\n",
      "  (Base) Checking constraints...\n",
      "  (Satisfied) SA!=WA\n",
      "  (Satisfied) SA!=NT\n",
      "  (Failed) SA!=Q\n",
      "(Call) S contains [V=0, NSW=0, Q=0, NT=2, WA=1, SA=1], V contains []\n",
      "  (Base) Checking constraints...\n",
      "  (Failed) SA!=WA\n",
      "(Call) S contains [V=0, NSW=0, Q=0, NT=2, WA=1, SA=2], V contains []\n",
      "  (Base) Checking constraints...\n",
      "  (Satisfied) SA!=WA\n",
      "  (Failed) SA!=NT\n",
      "(Call) S contains [V=0, NSW=0, Q=0, NT=2, WA=2], V contains [SA=0]\n",
      "(Call) S contains [V=0, NSW=0, Q=0, NT=2, WA=2, SA=0], V contains []\n",
      "  (Base) Checking constraints...\n",
      "  (Satisfied) SA!=WA\n",
      "  (Satisfied) SA!=NT\n",
      "  (Failed) SA!=Q\n",
      "(Call) S contains [V=0, NSW=0, Q=0, NT=2, WA=2, SA=1], V contains []\n",
      "  (Base) Checking constraints...\n",
      "  (Satisfied) SA!=WA\n",
      "  (Satisfied) SA!=NT\n",
      "  (Satisfied) SA!=Q\n",
      "  (Satisfied) SA!=NSW\n",
      "  (Satisfied) SA!=V\n",
      "  (Failed) WA!=NT\n",
      "(Call) S contains [V=0, NSW=0, Q=0, NT=2, WA=2, SA=2], V contains []\n",
      "  (Base) Checking constraints...\n",
      "  (Failed) SA!=WA\n",
      "(Call) S contains [V=0, NSW=0, Q=1], V contains [SA=0, WA=0, NT=0]\n",
      "(Call) S contains [V=0, NSW=0, Q=1, NT=0], V contains [SA=0, WA=0]\n",
      "(Call) S contains [V=0, NSW=0, Q=1, NT=0, WA=0], V contains [SA=0]\n",
      "(Call) S contains [V=0, NSW=0, Q=1, NT=0, WA=0, SA=0], V contains []\n",
      "  (Base) Checking constraints...\n",
      "  (Failed) SA!=WA\n",
      "(Call) S contains [V=0, NSW=0, Q=1, NT=0, WA=0, SA=1], V contains []\n",
      "  (Base) Checking constraints...\n",
      "  (Satisfied) SA!=WA\n",
      "  (Satisfied) SA!=NT\n",
      "  (Failed) SA!=Q\n",
      "(Call) S contains [V=0, NSW=0, Q=1, NT=0, WA=0, SA=2], V contains []\n",
      "  (Base) Checking constraints...\n",
      "  (Satisfied) SA!=WA\n",
      "  (Satisfied) SA!=NT\n",
      "  (Satisfied) SA!=Q\n",
      "  (Satisfied) SA!=NSW\n",
      "  (Satisfied) SA!=V\n",
      "  (Failed) WA!=NT\n",
      "(Call) S contains [V=0, NSW=0, Q=1, NT=0, WA=1], V contains [SA=0]\n",
      "(Call) S contains [V=0, NSW=0, Q=1, NT=0, WA=1, SA=0], V contains []\n",
      "  (Base) Checking constraints...\n",
      "  (Satisfied) SA!=WA\n",
      "  (Failed) SA!=NT\n",
      "(Call) S contains [V=0, NSW=0, Q=1, NT=0, WA=1, SA=1], V contains []\n",
      "  (Base) Checking constraints...\n",
      "  (Failed) SA!=WA\n",
      "(Call) S contains [V=0, NSW=0, Q=1, NT=0, WA=1, SA=2], V contains []\n",
      "  (Base) Checking constraints...\n",
      "  (Satisfied) SA!=WA\n",
      "  (Satisfied) SA!=NT\n",
      "  (Satisfied) SA!=Q\n",
      "  (Satisfied) SA!=NSW\n",
      "  (Satisfied) SA!=V\n",
      "  (Satisfied) WA!=NT\n",
      "  (Satisfied) NT!=Q\n",
      "  (Satisfied) Q!=NSW\n",
      "  (Failed) NSW!=V\n",
      "(Call) S contains [V=0, NSW=0, Q=1, NT=0, WA=2], V contains [SA=0]\n",
      "(Call) S contains [V=0, NSW=0, Q=1, NT=0, WA=2, SA=0], V contains []\n",
      "  (Base) Checking constraints...\n",
      "  (Satisfied) SA!=WA\n",
      "  (Failed) SA!=NT\n",
      "(Call) S contains [V=0, NSW=0, Q=1, NT=0, WA=2, SA=1], V contains []\n",
      "  (Base) Checking constraints...\n",
      "  (Satisfied) SA!=WA\n",
      "  (Satisfied) SA!=NT\n",
      "  (Failed) SA!=Q\n",
      "(Call) S contains [V=0, NSW=0, Q=1, NT=0, WA=2, SA=2], V contains []\n",
      "  (Base) Checking constraints...\n",
      "  (Failed) SA!=WA\n",
      "(Call) S contains [V=0, NSW=0, Q=1, NT=1], V contains [SA=0, WA=0]\n",
      "(Call) S contains [V=0, NSW=0, Q=1, NT=1, WA=0], V contains [SA=0]\n",
      "(Call) S contains [V=0, NSW=0, Q=1, NT=1, WA=0, SA=0], V contains []\n",
      "  (Base) Checking constraints...\n",
      "  (Failed) SA!=WA\n",
      "(Call) S contains [V=0, NSW=0, Q=1, NT=1, WA=0, SA=1], V contains []\n",
      "  (Base) Checking constraints...\n",
      "  (Satisfied) SA!=WA\n",
      "  (Failed) SA!=NT\n",
      "(Call) S contains [V=0, NSW=0, Q=1, NT=1, WA=0, SA=2], V contains []\n",
      "  (Base) Checking constraints...\n",
      "  (Satisfied) SA!=WA\n",
      "  (Satisfied) SA!=NT\n",
      "  (Satisfied) SA!=Q\n",
      "  (Satisfied) SA!=NSW\n",
      "  (Satisfied) SA!=V\n",
      "  (Satisfied) WA!=NT\n",
      "  (Failed) NT!=Q\n",
      "(Call) S contains [V=0, NSW=0, Q=1, NT=1, WA=1], V contains [SA=0]\n",
      "(Call) S contains [V=0, NSW=0, Q=1, NT=1, WA=1, SA=0], V contains []\n",
      "  (Base) Checking constraints...\n",
      "  (Satisfied) SA!=WA\n",
      "  (Satisfied) SA!=NT\n",
      "  (Satisfied) SA!=Q\n",
      "  (Failed) SA!=NSW\n",
      "(Call) S contains [V=0, NSW=0, Q=1, NT=1, WA=1, SA=1], V contains []\n",
      "  (Base) Checking constraints...\n",
      "  (Failed) SA!=WA\n",
      "(Call) S contains [V=0, NSW=0, Q=1, NT=1, WA=1, SA=2], V contains []\n",
      "  (Base) Checking constraints...\n",
      "  (Satisfied) SA!=WA\n",
      "  (Satisfied) SA!=NT\n",
      "  (Satisfied) SA!=Q\n",
      "  (Satisfied) SA!=NSW\n",
      "  (Satisfied) SA!=V\n",
      "  (Failed) WA!=NT\n",
      "(Call) S contains [V=0, NSW=0, Q=1, NT=1, WA=2], V contains [SA=0]\n",
      "(Call) S contains [V=0, NSW=0, Q=1, NT=1, WA=2, SA=0], V contains []\n",
      "  (Base) Checking constraints...\n",
      "  (Satisfied) SA!=WA\n",
      "  (Satisfied) SA!=NT\n",
      "  (Satisfied) SA!=Q\n",
      "  (Failed) SA!=NSW\n",
      "(Call) S contains [V=0, NSW=0, Q=1, NT=1, WA=2, SA=1], V contains []\n",
      "  (Base) Checking constraints...\n",
      "  (Satisfied) SA!=WA\n",
      "  (Failed) SA!=NT\n",
      "(Call) S contains [V=0, NSW=0, Q=1, NT=1, WA=2, SA=2], V contains []\n",
      "  (Base) Checking constraints...\n",
      "  (Failed) SA!=WA\n",
      "(Call) S contains [V=0, NSW=0, Q=1, NT=2], V contains [SA=0, WA=0]\n",
      "(Call) S contains [V=0, NSW=0, Q=1, NT=2, WA=0], V contains [SA=0]\n",
      "(Call) S contains [V=0, NSW=0, Q=1, NT=2, WA=0, SA=0], V contains []\n",
      "  (Base) Checking constraints...\n",
      "  (Failed) SA!=WA\n",
      "(Call) S contains [V=0, NSW=0, Q=1, NT=2, WA=0, SA=1], V contains []\n",
      "  (Base) Checking constraints...\n",
      "  (Satisfied) SA!=WA\n",
      "  (Satisfied) SA!=NT\n",
      "  (Failed) SA!=Q\n",
      "(Call) S contains [V=0, NSW=0, Q=1, NT=2, WA=0, SA=2], V contains []\n",
      "  (Base) Checking constraints...\n",
      "  (Satisfied) SA!=WA\n",
      "  (Failed) SA!=NT\n",
      "(Call) S contains [V=0, NSW=0, Q=1, NT=2, WA=1], V contains [SA=0]\n",
      "(Call) S contains [V=0, NSW=0, Q=1, NT=2, WA=1, SA=0], V contains []\n",
      "  (Base) Checking constraints...\n",
      "  (Satisfied) SA!=WA\n",
      "  (Satisfied) SA!=NT\n",
      "  (Satisfied) SA!=Q\n",
      "  (Failed) SA!=NSW\n",
      "(Call) S contains [V=0, NSW=0, Q=1, NT=2, WA=1, SA=1], V contains []\n",
      "  (Base) Checking constraints...\n",
      "  (Failed) SA!=WA\n",
      "(Call) S contains [V=0, NSW=0, Q=1, NT=2, WA=1, SA=2], V contains []\n",
      "  (Base) Checking constraints...\n",
      "  (Satisfied) SA!=WA\n",
      "  (Failed) SA!=NT\n",
      "(Call) S contains [V=0, NSW=0, Q=1, NT=2, WA=2], V contains [SA=0]\n",
      "(Call) S contains [V=0, NSW=0, Q=1, NT=2, WA=2, SA=0], V contains []\n",
      "  (Base) Checking constraints...\n",
      "  (Satisfied) SA!=WA\n",
      "  (Satisfied) SA!=NT\n",
      "  (Satisfied) SA!=Q\n",
      "  (Failed) SA!=NSW\n",
      "(Call) S contains [V=0, NSW=0, Q=1, NT=2, WA=2, SA=1], V contains []\n",
      "  (Base) Checking constraints...\n",
      "  (Satisfied) SA!=WA\n",
      "  (Satisfied) SA!=NT\n",
      "  (Failed) SA!=Q\n",
      "(Call) S contains [V=0, NSW=0, Q=1, NT=2, WA=2, SA=2], V contains []\n",
      "  (Base) Checking constraints...\n",
      "  (Failed) SA!=WA\n",
      "(Call) S contains [V=0, NSW=0, Q=2], V contains [SA=0, WA=0, NT=0]\n",
      "(Call) S contains [V=0, NSW=0, Q=2, NT=0], V contains [SA=0, WA=0]\n",
      "(Call) S contains [V=0, NSW=0, Q=2, NT=0, WA=0], V contains [SA=0]\n",
      "(Call) S contains [V=0, NSW=0, Q=2, NT=0, WA=0, SA=0], V contains []\n",
      "  (Base) Checking constraints...\n",
      "  (Failed) SA!=WA\n",
      "(Call) S contains [V=0, NSW=0, Q=2, NT=0, WA=0, SA=1], V contains []\n",
      "  (Base) Checking constraints...\n",
      "  (Satisfied) SA!=WA\n",
      "  (Satisfied) SA!=NT\n",
      "  (Satisfied) SA!=Q\n",
      "  (Satisfied) SA!=NSW\n",
      "  (Satisfied) SA!=V\n",
      "  (Failed) WA!=NT\n",
      "(Call) S contains [V=0, NSW=0, Q=2, NT=0, WA=0, SA=2], V contains []\n",
      "  (Base) Checking constraints...\n",
      "  (Satisfied) SA!=WA\n",
      "  (Satisfied) SA!=NT\n",
      "  (Failed) SA!=Q\n",
      "(Call) S contains [V=0, NSW=0, Q=2, NT=0, WA=1], V contains [SA=0]\n",
      "(Call) S contains [V=0, NSW=0, Q=2, NT=0, WA=1, SA=0], V contains []\n",
      "  (Base) Checking constraints...\n",
      "  (Satisfied) SA!=WA\n",
      "  (Failed) SA!=NT\n",
      "(Call) S contains [V=0, NSW=0, Q=2, NT=0, WA=1, SA=1], V contains []\n",
      "  (Base) Checking constraints...\n",
      "  (Failed) SA!=WA\n",
      "(Call) S contains [V=0, NSW=0, Q=2, NT=0, WA=1, SA=2], V contains []\n",
      "  (Base) Checking constraints...\n",
      "  (Satisfied) SA!=WA\n",
      "  (Satisfied) SA!=NT\n",
      "  (Failed) SA!=Q\n",
      "(Call) S contains [V=0, NSW=0, Q=2, NT=0, WA=2], V contains [SA=0]\n",
      "(Call) S contains [V=0, NSW=0, Q=2, NT=0, WA=2, SA=0], V contains []\n",
      "  (Base) Checking constraints...\n",
      "  (Satisfied) SA!=WA\n",
      "  (Failed) SA!=NT\n",
      "(Call) S contains [V=0, NSW=0, Q=2, NT=0, WA=2, SA=1], V contains []\n",
      "  (Base) Checking constraints...\n",
      "  (Satisfied) SA!=WA\n",
      "  (Satisfied) SA!=NT\n",
      "  (Satisfied) SA!=Q\n",
      "  (Satisfied) SA!=NSW\n",
      "  (Satisfied) SA!=V\n",
      "  (Satisfied) WA!=NT\n",
      "  (Satisfied) NT!=Q\n",
      "  (Satisfied) Q!=NSW\n",
      "  (Failed) NSW!=V\n",
      "(Call) S contains [V=0, NSW=0, Q=2, NT=0, WA=2, SA=2], V contains []\n",
      "  (Base) Checking constraints...\n",
      "  (Failed) SA!=WA\n",
      "(Call) S contains [V=0, NSW=0, Q=2, NT=1], V contains [SA=0, WA=0]\n",
      "(Call) S contains [V=0, NSW=0, Q=2, NT=1, WA=0], V contains [SA=0]\n",
      "(Call) S contains [V=0, NSW=0, Q=2, NT=1, WA=0, SA=0], V contains []\n",
      "  (Base) Checking constraints...\n",
      "  (Failed) SA!=WA\n",
      "(Call) S contains [V=0, NSW=0, Q=2, NT=1, WA=0, SA=1], V contains []\n",
      "  (Base) Checking constraints...\n",
      "  (Satisfied) SA!=WA\n",
      "  (Failed) SA!=NT\n",
      "(Call) S contains [V=0, NSW=0, Q=2, NT=1, WA=0, SA=2], V contains []\n",
      "  (Base) Checking constraints...\n",
      "  (Satisfied) SA!=WA\n",
      "  (Satisfied) SA!=NT\n",
      "  (Failed) SA!=Q\n",
      "(Call) S contains [V=0, NSW=0, Q=2, NT=1, WA=1], V contains [SA=0]\n",
      "(Call) S contains [V=0, NSW=0, Q=2, NT=1, WA=1, SA=0], V contains []\n",
      "  (Base) Checking constraints...\n",
      "  (Satisfied) SA!=WA\n",
      "  (Satisfied) SA!=NT\n",
      "  (Satisfied) SA!=Q\n",
      "  (Failed) SA!=NSW\n",
      "(Call) S contains [V=0, NSW=0, Q=2, NT=1, WA=1, SA=1], V contains []\n",
      "  (Base) Checking constraints...\n",
      "  (Failed) SA!=WA\n",
      "(Call) S contains [V=0, NSW=0, Q=2, NT=1, WA=1, SA=2], V contains []\n",
      "  (Base) Checking constraints...\n",
      "  (Satisfied) SA!=WA\n",
      "  (Satisfied) SA!=NT\n",
      "  (Failed) SA!=Q\n",
      "(Call) S contains [V=0, NSW=0, Q=2, NT=1, WA=2], V contains [SA=0]\n",
      "(Call) S contains [V=0, NSW=0, Q=2, NT=1, WA=2, SA=0], V contains []\n",
      "  (Base) Checking constraints...\n",
      "  (Satisfied) SA!=WA\n",
      "  (Satisfied) SA!=NT\n",
      "  (Satisfied) SA!=Q\n",
      "  (Failed) SA!=NSW\n",
      "(Call) S contains [V=0, NSW=0, Q=2, NT=1, WA=2, SA=1], V contains []\n",
      "  (Base) Checking constraints...\n",
      "  (Satisfied) SA!=WA\n",
      "  (Failed) SA!=NT\n",
      "(Call) S contains [V=0, NSW=0, Q=2, NT=1, WA=2, SA=2], V contains []\n",
      "  (Base) Checking constraints...\n",
      "  (Failed) SA!=WA\n",
      "(Call) S contains [V=0, NSW=0, Q=2, NT=2], V contains [SA=0, WA=0]\n",
      "(Call) S contains [V=0, NSW=0, Q=2, NT=2, WA=0], V contains [SA=0]\n",
      "(Call) S contains [V=0, NSW=0, Q=2, NT=2, WA=0, SA=0], V contains []\n",
      "  (Base) Checking constraints...\n",
      "  (Failed) SA!=WA\n",
      "(Call) S contains [V=0, NSW=0, Q=2, NT=2, WA=0, SA=1], V contains []\n",
      "  (Base) Checking constraints...\n",
      "  (Satisfied) SA!=WA\n",
      "  (Satisfied) SA!=NT\n",
      "  (Satisfied) SA!=Q\n",
      "  (Satisfied) SA!=NSW\n",
      "  (Satisfied) SA!=V\n",
      "  (Satisfied) WA!=NT\n",
      "  (Failed) NT!=Q\n",
      "(Call) S contains [V=0, NSW=0, Q=2, NT=2, WA=0, SA=2], V contains []\n",
      "  (Base) Checking constraints...\n",
      "  (Satisfied) SA!=WA\n",
      "  (Failed) SA!=NT\n",
      "(Call) S contains [V=0, NSW=0, Q=2, NT=2, WA=1], V contains [SA=0]\n",
      "(Call) S contains [V=0, NSW=0, Q=2, NT=2, WA=1, SA=0], V contains []\n",
      "  (Base) Checking constraints...\n",
      "  (Satisfied) SA!=WA\n",
      "  (Satisfied) SA!=NT\n",
      "  (Satisfied) SA!=Q\n",
      "  (Failed) SA!=NSW\n",
      "(Call) S contains [V=0, NSW=0, Q=2, NT=2, WA=1, SA=1], V contains []\n",
      "  (Base) Checking constraints...\n",
      "  (Failed) SA!=WA\n",
      "(Call) S contains [V=0, NSW=0, Q=2, NT=2, WA=1, SA=2], V contains []\n",
      "  (Base) Checking constraints...\n",
      "  (Satisfied) SA!=WA\n",
      "  (Failed) SA!=NT\n",
      "(Call) S contains [V=0, NSW=0, Q=2, NT=2, WA=2], V contains [SA=0]\n",
      "(Call) S contains [V=0, NSW=0, Q=2, NT=2, WA=2, SA=0], V contains []\n",
      "  (Base) Checking constraints...\n",
      "  (Satisfied) SA!=WA\n",
      "  (Satisfied) SA!=NT\n",
      "  (Satisfied) SA!=Q\n",
      "  (Failed) SA!=NSW\n",
      "(Call) S contains [V=0, NSW=0, Q=2, NT=2, WA=2, SA=1], V contains []\n",
      "  (Base) Checking constraints...\n",
      "  (Satisfied) SA!=WA\n",
      "  (Satisfied) SA!=NT\n",
      "  (Satisfied) SA!=Q\n",
      "  (Satisfied) SA!=NSW\n",
      "  (Satisfied) SA!=V\n",
      "  (Failed) WA!=NT\n",
      "(Call) S contains [V=0, NSW=0, Q=2, NT=2, WA=2, SA=2], V contains []\n",
      "  (Base) Checking constraints...\n",
      "  (Failed) SA!=WA\n",
      "(Call) S contains [V=0, NSW=1], V contains [SA=0, WA=0, NT=0, Q=0]\n",
      "(Call) S contains [V=0, NSW=1, Q=0], V contains [SA=0, WA=0, NT=0]\n",
      "(Call) S contains [V=0, NSW=1, Q=0, NT=0], V contains [SA=0, WA=0]\n",
      "(Call) S contains [V=0, NSW=1, Q=0, NT=0, WA=0], V contains [SA=0]\n",
      "(Call) S contains [V=0, NSW=1, Q=0, NT=0, WA=0, SA=0], V contains []\n",
      "  (Base) Checking constraints...\n",
      "  (Failed) SA!=WA\n",
      "(Call) S contains [V=0, NSW=1, Q=0, NT=0, WA=0, SA=1], V contains []\n",
      "  (Base) Checking constraints...\n",
      "  (Satisfied) SA!=WA\n",
      "  (Satisfied) SA!=NT\n",
      "  (Satisfied) SA!=Q\n",
      "  (Failed) SA!=NSW\n",
      "(Call) S contains [V=0, NSW=1, Q=0, NT=0, WA=0, SA=2], V contains []\n",
      "  (Base) Checking constraints...\n",
      "  (Satisfied) SA!=WA\n",
      "  (Satisfied) SA!=NT\n",
      "  (Satisfied) SA!=Q\n",
      "  (Satisfied) SA!=NSW\n",
      "  (Satisfied) SA!=V\n",
      "  (Failed) WA!=NT\n",
      "(Call) S contains [V=0, NSW=1, Q=0, NT=0, WA=1], V contains [SA=0]\n",
      "(Call) S contains [V=0, NSW=1, Q=0, NT=0, WA=1, SA=0], V contains []\n",
      "  (Base) Checking constraints...\n",
      "  (Satisfied) SA!=WA\n",
      "  (Failed) SA!=NT\n",
      "(Call) S contains [V=0, NSW=1, Q=0, NT=0, WA=1, SA=1], V contains []\n",
      "  (Base) Checking constraints...\n",
      "  (Failed) SA!=WA\n",
      "(Call) S contains [V=0, NSW=1, Q=0, NT=0, WA=1, SA=2], V contains []\n",
      "  (Base) Checking constraints...\n",
      "  (Satisfied) SA!=WA\n",
      "  (Satisfied) SA!=NT\n",
      "  (Satisfied) SA!=Q\n",
      "  (Satisfied) SA!=NSW\n",
      "  (Satisfied) SA!=V\n",
      "  (Satisfied) WA!=NT\n",
      "  (Failed) NT!=Q\n",
      "(Call) S contains [V=0, NSW=1, Q=0, NT=0, WA=2], V contains [SA=0]\n",
      "(Call) S contains [V=0, NSW=1, Q=0, NT=0, WA=2, SA=0], V contains []\n",
      "  (Base) Checking constraints...\n",
      "  (Satisfied) SA!=WA\n",
      "  (Failed) SA!=NT\n",
      "(Call) S contains [V=0, NSW=1, Q=0, NT=0, WA=2, SA=1], V contains []\n",
      "  (Base) Checking constraints...\n",
      "  (Satisfied) SA!=WA\n",
      "  (Satisfied) SA!=NT\n",
      "  (Satisfied) SA!=Q\n",
      "  (Failed) SA!=NSW\n",
      "(Call) S contains [V=0, NSW=1, Q=0, NT=0, WA=2, SA=2], V contains []\n",
      "  (Base) Checking constraints...\n",
      "  (Failed) SA!=WA\n",
      "(Call) S contains [V=0, NSW=1, Q=0, NT=1], V contains [SA=0, WA=0]\n",
      "(Call) S contains [V=0, NSW=1, Q=0, NT=1, WA=0], V contains [SA=0]\n",
      "(Call) S contains [V=0, NSW=1, Q=0, NT=1, WA=0, SA=0], V contains []\n",
      "  (Base) Checking constraints...\n",
      "  (Failed) SA!=WA\n",
      "(Call) S contains [V=0, NSW=1, Q=0, NT=1, WA=0, SA=1], V contains []\n",
      "  (Base) Checking constraints...\n",
      "  (Satisfied) SA!=WA\n",
      "  (Failed) SA!=NT\n",
      "(Call) S contains [V=0, NSW=1, Q=0, NT=1, WA=0, SA=2], V contains []\n",
      "  (Base) Checking constraints...\n",
      "  (Satisfied) SA!=WA\n",
      "  (Satisfied) SA!=NT\n",
      "  (Satisfied) SA!=Q\n",
      "  (Satisfied) SA!=NSW\n",
      "  (Satisfied) SA!=V\n",
      "  (Satisfied) WA!=NT\n",
      "  (Satisfied) NT!=Q\n",
      "  (Satisfied) Q!=NSW\n",
      "  (Satisfied) NSW!=V\n",
      "  (Solution) [SA=2, WA=0, NT=1, Q=0, NSW=1, V=0]\n",
      "Wall time: 31 ms\n"
     ]
    }
   ],
   "source": [
    "%%time\n",
    "colors = {'red': 0, 'blue': 1, 'green': 2}\n",
    "icolors = {v:k for k,v in colors.items()}\n",
    "V = [Variable(x, list(colors.values())) for x in 'SA,WA,NT,Q,NSW,V'.split(',')]\n",
    "V\n",
    "c1 = Constraint('SA!=WA')\n",
    "c2 = Constraint('SA!=NT')\n",
    "c3 = Constraint('SA!=Q')\n",
    "c4 = Constraint('SA!=NSW')\n",
    "c5 = Constraint('SA!=V')\n",
    "c6 = Constraint('WA!=NT')\n",
    "c7 = Constraint('NT!=Q')\n",
    "c8 = Constraint('Q!=NSW')\n",
    "c9 = Constraint('NSW!=V')\n",
    "C = [c1,c2,c3,c4,c5,c6,c7,c8,c9]\n",
    "csp = CSP(V,C)\n",
    "csp.stop_on_first = True\n",
    "csp.solve()"
   ]
  },
  {
   "cell_type": "code",
   "execution_count": 5,
   "metadata": {
    "scrolled": false
   },
   "outputs": [
    {
     "data": {
      "text/plain": [
       "[{'V': 'red'},\n",
       " {'NSW': 'blue'},\n",
       " {'Q': 'red'},\n",
       " {'NT': 'blue'},\n",
       " {'WA': 'red'},\n",
       " {'SA': 'green'}]"
      ]
     },
     "execution_count": 5,
     "metadata": {},
     "output_type": "execute_result"
    }
   ],
   "source": [
    "[{v.name:icolors[v.value]} for v in csp.solution]"
   ]
  },
  {
   "cell_type": "markdown",
   "metadata": {},
   "source": [
    "# Implementations of all algorithms\n",
    "\n",
    "This section covers all the implementations of the algorithms. In later sections, each algorithm is explained in more detail. The following algorithms are implemented:\n",
    "\n",
    " * `HSSolver`: brute-force tree-based search. (brute-force)\n",
    " * `GSSolver`: pruned tree-based search. (evaluate constraints when variables are in scope)\n",
    " * `HGSSolver`: heuristical pruned tree-based search. (solve the variables in order of max. number of constraints)\n",
    " * `IGSSolver`: inferenced pruned tree-based search. (remove any assigned values from the domain of any shared $\\mathrm{AllDiff}$s)"
   ]
  },
  {
   "cell_type": "code",
   "execution_count": 21,
   "metadata": {},
   "outputs": [],
   "source": [
    "import copy\n",
    "import operator\n",
    "\n",
    "class Variable():\n",
    "    def __init__(self, name, D): \n",
    "        self.name = name; \n",
    "        self.domain = D; \n",
    "        self.value = D[0]\n",
    "    def __hash__(self): return int(''.join([str(ord(x)) for x in self.name]))\n",
    "    def __eq__(self, v): return v.name == self.name\n",
    "    def __repr__(self): return '{}={}'.format(self.name, self.value, self.domain)\n",
    "        \n",
    "class Constraint():\n",
    "    def __init__(self, expr, scope): self.expression = expr; self.scope = scope\n",
    "    def __repr__(self): return self.expression\n",
    "    def eval(self, V): return eval(self.replace_all(self.expression, {v.name:v.value for v in V}))\n",
    "    def replace_all(self, text, dic):\n",
    "        for k, v in dic.items():\n",
    "            text = text.replace(k, str(v))\n",
    "        return text\n",
    "    \n",
    "class AllDiff(Constraint):\n",
    "    def __init__(self, scope): self.scope = scope\n",
    "    def __repr__(self): return 'AllDiff({})'.format(','.join([v.name for v in self.scope]))\n",
    "    def count_name(self,V): return {v:len(v.name) for v in V}\n",
    "    def largest_variable_name(self,V): return sorted(self.count_name(V).items(), key=operator.itemgetter(1))\n",
    "    def eval(self, V): \n",
    "        V = [k for k,v in self.largest_variable_name(V)[::-1]]\n",
    "        return eval(self.replace_all('alldiff([{}])'.format(','.join([v.name for v in V if v in self.scope])), \n",
    "                                     {v.name:v.value for v in V}))\n",
    "\n",
    "# Scopeless brute-force search algorithm.\n",
    "class GTSolver():\n",
    "   \n",
    "    def __init__(self, variables, constraints):\n",
    "        self.variables = variables\n",
    "        self.constraints = constraints\n",
    "        self.stop_on_first = False\n",
    "        \n",
    "    def solve(self):\n",
    "        self.solution = []\n",
    "        self.gt_solve([], self.variables)\n",
    "        return self.solution[::-1]\n",
    "    \n",
    "    def gt_solve(self, S, V):\n",
    "        if len(V) == 0: \n",
    "            return all([c.eval(S) for c in self.constraints])           \n",
    "        v = V.pop()\n",
    "        S.append(v)\n",
    "        for d in v.domain:\n",
    "            if self.solution and self.stop_on_first: return\n",
    "            v.value = d\n",
    "            if self.gt_solve(copy.deepcopy(S), copy.deepcopy(V)):\n",
    "                self.solution.append(S)\n",
    "        return False\n",
    "    \n",
    "# Scope searching algorithm with solution pruning. It starts\n",
    "# to check if a solution is valid as soon as the scope of a constraint\n",
    "# is a subset of the solution set.\n",
    "class GSSolver():\n",
    "    \n",
    "    def all_scope(self, C, S): return all([s in C for s in S])\n",
    "    def any_scope(self, C, S): return any([s in C for s in S])\n",
    "    def k_scope(self, C, S, k): return sum([1 for s in S if s in C]) >= k\n",
    "    \n",
    "    def __init__(self, variables, constraints):\n",
    "        self.variables = variables\n",
    "        self.constraints = constraints\n",
    "        self.stop_on_first = False\n",
    "        \n",
    "    def solve(self):\n",
    "        self.solution = []\n",
    "        self.gs_solve([], self.variables)\n",
    "        return self.solution[::-1]\n",
    "    \n",
    "    def gs_solve(self, S, V):\n",
    "        if len(V) == 0: \n",
    "            return all([c.eval(S) for c in self.constraints]) \n",
    "        elif len(S) > 0:\n",
    "            for c in self.constraints:\n",
    "                if isinstance(c, AllDiff) and self.k_scope(S, c.scope, 2):\n",
    "                    if not c.eval(S): return\n",
    "                else:\n",
    "                    if self.all_scope(S, c.scope) and not c.eval(S):\n",
    "                        return\n",
    "        v = V.pop()\n",
    "        S.append(v)\n",
    "        for d in v.domain:\n",
    "            if self.solution and self.stop_on_first: return\n",
    "            v.value = d\n",
    "            if self.gs_solve(copy.deepcopy(S), copy.deepcopy(V)):\n",
    "                self.solution.append(S)\n",
    "        return False\n",
    "    \n",
    "# Heuristical scope searching algorithm with solution pruning. It starts\n",
    "# to check if a solution is valid as soon as the scope of a constraint\n",
    "# is a subset of the solution set. Before solving, by inference, it will sort\n",
    "# the variables based on in how many constraints they are. With this heuristic\n",
    "# it will fail as early as possible (which should improve the speed).\n",
    "class HGSSolver():\n",
    "    \n",
    "    # C : scope of the constraint\n",
    "    # S : solution set\n",
    "    def all_scope(self, C, S): return all([s in C for s in S]) # c is a subset of S\n",
    "    def any_scope(self, C, S): return any([s in C for s in S]) # any c is in S\n",
    "    def k_scope(self, C, S, k): return sum([1 for s in S if s in C]) >= k # c is in S atleast k times\n",
    "    def count_constraints(self,V,C): return {v:sum([1 for c in C if v in c.scope]) for v in V}\n",
    "    def most_constrained_order(self,V,C): return sorted(self.count_constraints(V,C).items(), key=operator.itemgetter(1))\n",
    "    def pre_sort(self,V,C): return [k for k,v in self.most_constrained_order(V,C)]\n",
    "    \n",
    "    def __init__(self, variables, constraints):\n",
    "        self.variables = variables\n",
    "        self.constraints = constraints\n",
    "        self.stop_on_first = False\n",
    "        \n",
    "    def solve(self):\n",
    "        self.solution = []\n",
    "        self.hgs_solve([], self.pre_sort([v for v in self.variables], self.constraints))\n",
    "        return self.solution[::-1]\n",
    "    \n",
    "    def hgs_solve(self, S, V):\n",
    "        if len(V) == 0: \n",
    "            return all([c.eval(S) for c in self.constraints]) \n",
    "        elif len(S) > 0:\n",
    "            for c in self.constraints:\n",
    "                if isinstance(c, AllDiff) and self.k_scope(S, c.scope, 2): \n",
    "                    if not c.eval(S): return\n",
    "                else:\n",
    "                    if self.all_scope(S, c.scope) and not c.eval(S): return\n",
    "        v = V.pop()\n",
    "        S.append(v)\n",
    "        for d in v.domain:\n",
    "            if self.solution and self.stop_on_first: return\n",
    "            v.value = d\n",
    "            if self.hgs_solve(copy.deepcopy(S), copy.deepcopy(V)):\n",
    "                self.solution.append(copy.deepcopy(S))\n",
    "        return False"
   ]
  },
  {
   "cell_type": "markdown",
   "metadata": {},
   "source": [
    "Applying this to the map coloring problem:"
   ]
  },
  {
   "cell_type": "code",
   "execution_count": 7,
   "metadata": {},
   "outputs": [],
   "source": [
    "def color_problem():\n",
    "    colors = {'red': 0, 'blue': 1, 'green': 2}\n",
    "    V = [Variable(x, list(colors.values())) for x in 'SA,WA,NT,Q,NSW,V'.split(',')]\n",
    "    def f(name): return head(list(filter(lambda v: v.name == name, V)))\n",
    "    c1 = Constraint('SA!=WA', [f('SA'), f('WA')])\n",
    "    c2 = Constraint('SA!=NT', [f('SA'), f('NT')])\n",
    "    c3 = Constraint('SA!=Q', [f('SA'), f('Q')])\n",
    "    c4 = Constraint('SA!=NSW', [f('SA'), f('NSW')])\n",
    "    c5 = Constraint('SA!=V', [f('SA'), f('V')])\n",
    "    c6 = Constraint('WA!=NT', [f('WA'), f('NT')])\n",
    "    c7 = Constraint('NT!=Q', [f('NT'), f('Q')])\n",
    "    c8 = Constraint('Q!=NSW', [f('Q'), f('NSW')])\n",
    "    c9 = Constraint('NSW!=V', [f('NSW'), f('V')])\n",
    "    C = [c1,c2,c3,c4,c5,c6,c7,c8,c9]\n",
    "    return (V, C)"
   ]
  },
  {
   "cell_type": "code",
   "execution_count": 8,
   "metadata": {
    "scrolled": false
   },
   "outputs": [
    {
     "name": "stdout",
     "output_type": "stream",
     "text": [
      "There are 6 solutions:\n",
      "[[{'V': 'red'}, {'NSW': 'blue'}, {'Q': 'red'}, {'NT': 'blue'}, {'WA': 'red'}, {'SA': 'green'}], [{'V': 'red'}, {'NSW': 'green'}, {'Q': 'red'}, {'NT': 'green'}, {'WA': 'red'}, {'SA': 'green'}], [{'V': 'blue'}, {'NSW': 'red'}, {'Q': 'blue'}, {'NT': 'red'}, {'WA': 'blue'}, {'SA': 'green'}], [{'V': 'blue'}, {'NSW': 'green'}, {'Q': 'blue'}, {'NT': 'green'}, {'WA': 'blue'}, {'SA': 'green'}], [{'V': 'green'}, {'NSW': 'red'}, {'Q': 'green'}, {'NT': 'red'}, {'WA': 'green'}, {'SA': 'green'}], [{'V': 'green'}, {'NSW': 'blue'}, {'Q': 'green'}, {'NT': 'blue'}, {'WA': 'green'}, {'SA': 'green'}]]\n",
      "Wall time: 202 ms\n"
     ]
    }
   ],
   "source": [
    "%%time\n",
    "V, C = color_problem()\n",
    "csp = GTSolver(V,C)\n",
    "csp.solve()\n",
    "print('There are {} solutions:'.format(len(csp.solution)))\n",
    "lkup = {v:k for k,v in colors.items()}\n",
    "print([[{v.name:lkup[v.value]} for v in s] for s in csp.solution])"
   ]
  },
  {
   "cell_type": "markdown",
   "metadata": {},
   "source": [
    "The map coloring problem has $O(ck^d)=O(9\\cdot 7^3)=3,087$ possible worlds."
   ]
  },
  {
   "cell_type": "markdown",
   "metadata": {},
   "source": [
    "# AllDiff and pruning (`GSSolver`)"
   ]
  },
  {
   "cell_type": "markdown",
   "metadata": {},
   "source": [
    "The $\\textrm{AllDiff}$ function returns true if all the elements in $S$ are different, and otherwise false. This is a useful function to set up constraints, i.e.: a Sudoku solver."
   ]
  },
  {
   "cell_type": "code",
   "execution_count": 9,
   "metadata": {},
   "outputs": [],
   "source": [
    "def alldiff(S): return len(S) == len(set(S))"
   ]
  },
  {
   "cell_type": "markdown",
   "metadata": {},
   "source": [
    "**Solving with the GT algorithm**: If we create a simple problem with variables $\\{V_1,\\ldots,V_9\\}$, with each a domain of $\\textrm{dom}(V_k)=\\{0,1,2,\\ldots,9\\}$. The constraint is that all variables have different values. The GT-algorithm runs with $O(ck^d)$ complexity, which gives us $O(1\\cdot 9^9)=387,420,489$ possible worlds. By the way the algorithm works, the first solution will be $\\{V_1=9, V_2=8,\\ldots,V_8=2,V_9=1\\}$, which is found halfway through all the solutions. This means that a model is approximately found at the $193,710,224$th test. Needlessly to say, this algorithm will take a very long time to find a feasible solution to the model.\n",
    "\n",
    "**Extending to the GS algorithm:** To solve this particular problem, the GT algorithm has been modified to do the GS algorithm. To properly perform this, a scope has been added to the constraints. This scope is used to start early evaluation of possible solutions. When the variables of the scope of a constraint is a subset of the solution set, we can see if the constraint is satisfied. This way, when there is an invalid solution, the sub-tree will be pruned as soon as any constraint fails to be satisfied.\n",
    "\n",
    "The constraints will need to know which variables are included, which is the _scope_ of the constraint. If all the variables that are in the solution cover the scope of a constraint, it will be evaluated."
   ]
  },
  {
   "cell_type": "code",
   "execution_count": 10,
   "metadata": {},
   "outputs": [],
   "source": [
    "class AllDiff(Constraint):\n",
    "    def __init__(self, scope): self.scope = scope\n",
    "    def eval(self, V): return eval(self.replace_all('alldiff([{}])'\n",
    "                                                    .format(','.join([v.name for v in V])), {v.name:v.value for v in V}))"
   ]
  },
  {
   "cell_type": "markdown",
   "metadata": {},
   "source": [
    "The $\\textrm{AllDiff}$ constraint does not require to have all the variables in scope. It should check satisfaction as soon as there are two or more variables in the scope that can be tested. In essence, the $\\textrm{AllDiff}$ constraint will create a cross-product between all the variables to create a constraint for inequality between any 2-pairs of variables. Therefore it will create $k^2$ constraints, and we can already start checking if we have two variables in scope."
   ]
  },
  {
   "cell_type": "code",
   "execution_count": 11,
   "metadata": {
    "scrolled": true
   },
   "outputs": [
    {
     "name": "stdout",
     "output_type": "stream",
     "text": [
      "[x9=0, x8=1, x7=2, x6=3, x5=4, x4=5, x3=6, x2=7, x1=8, x0=9]\n",
      "Wall time: 18 ms\n"
     ]
    }
   ],
   "source": [
    "%%time\n",
    "V = [Variable('x{}'.format(x), list(range(10))) for x in range(10)]\n",
    "csp = GSSolver(V, [AllDiff(V)])\n",
    "csp.stop_on_first = True\n",
    "csp.solve()\n",
    "print(head(csp.solution))"
   ]
  },
  {
   "cell_type": "markdown",
   "metadata": {},
   "source": [
    "If we create a very large problem with $k=100$, and $D_k=\\{0,\\ldots,99\\}$, the complexity of this problem is $O(ck^d) = O(100^{100})$. The $\\mathrm{AllDiff}$ constraint really shines here. To create inequalities for all $100$ variables, we would get $100^2=10,000$ different constraints. The complexity would have been $O(10,000\\cdot100^{100})$, or $O(100^{102})$. The improvement is a factor of $k^2$. Also, considering that it doesn't have to iterate over $10,000$ constraints, and check them one by one, it's a nice improvement."
   ]
  },
  {
   "cell_type": "code",
   "execution_count": 12,
   "metadata": {
    "scrolled": true
   },
   "outputs": [
    {
     "name": "stdout",
     "output_type": "stream",
     "text": [
      "Wall time: 0 ns\n"
     ]
    }
   ],
   "source": [
    "%%time\n",
    "V = [Variable('x{}'.format(x), list(range(100))) for x in range(100)]\n",
    "csp = GSSolver(V, [AllDiff(V)])\n",
    "csp.stop_on_first = True\n",
    "#csp.solve()\n",
    "#print(head(csp.solution))"
   ]
  },
  {
   "cell_type": "markdown",
   "metadata": {},
   "source": [
    "It still finds a solution within a minute."
   ]
  },
  {
   "cell_type": "markdown",
   "metadata": {},
   "source": [
    "# Search heuristic (`HGSSolver`)"
   ]
  },
  {
   "cell_type": "markdown",
   "metadata": {},
   "source": [
    "Let's start with applying the GS algorithm to the map coloring problem:"
   ]
  },
  {
   "cell_type": "code",
   "execution_count": 13,
   "metadata": {},
   "outputs": [
    {
     "name": "stdout",
     "output_type": "stream",
     "text": [
      "There are 6 solutions:\n",
      "[[{'V': 'red'}, {'NSW': 'blue'}, {'Q': 'red'}, {'NT': 'blue'}, {'WA': 'red'}, {'SA': 'green'}], [{'V': 'red'}, {'NSW': 'green'}, {'Q': 'red'}, {'NT': 'green'}, {'WA': 'red'}, {'SA': 'green'}], [{'V': 'blue'}, {'NSW': 'red'}, {'Q': 'blue'}, {'NT': 'red'}, {'WA': 'blue'}, {'SA': 'green'}], [{'V': 'blue'}, {'NSW': 'green'}, {'Q': 'blue'}, {'NT': 'green'}, {'WA': 'blue'}, {'SA': 'green'}], [{'V': 'green'}, {'NSW': 'red'}, {'Q': 'green'}, {'NT': 'red'}, {'WA': 'green'}, {'SA': 'green'}], [{'V': 'green'}, {'NSW': 'blue'}, {'Q': 'green'}, {'NT': 'blue'}, {'WA': 'green'}, {'SA': 'green'}]]\n",
      "Wall time: 63 ms\n"
     ]
    }
   ],
   "source": [
    "%%time\n",
    "V, C = color_problem()\n",
    "csp = GSSolver(V,C)\n",
    "csp.solve()\n",
    "print('There are {} solutions:'.format(len(csp.solution)))\n",
    "lkup = {v:k for k,v in colors.items()}\n",
    "print([[{v.name:lkup[v.value]} for v in s] for s in csp.solution])"
   ]
  },
  {
   "cell_type": "markdown",
   "metadata": {},
   "source": [
    "It is faster than the GT algorithm, but it can be improved further. If solves the variables in order of the most-constrained variable, it will fail early. For the $\\textrm{AllDiff}$ where all the variables share an equal amount of constraints, this will have no effect. However, for the map coloring problem this should give a speed improvement.\n",
    "\n",
    "**Most constrained variable heuristic:**\n",
    "\n",
    " * For each $V \\in \\mathscr{V}$:\n",
    "   * Count in how many constraints $V$ is used.\n",
    " * Sort all the variables based on the count (large to small).\n",
    " * Call the `hgs_solve(...)` function with the sorted variables in $\\mathscr{V}$."
   ]
  },
  {
   "cell_type": "code",
   "execution_count": 14,
   "metadata": {
    "scrolled": false
   },
   "outputs": [
    {
     "name": "stdout",
     "output_type": "stream",
     "text": [
      "There are 6 solutions:\n",
      "[[{'V': 'red'}, {'NSW': 'blue'}, {'Q': 'red'}, {'NT': 'blue'}, {'WA': 'red'}, {'SA': 'green'}], [{'V': 'red'}, {'NSW': 'green'}, {'Q': 'red'}, {'NT': 'green'}, {'WA': 'red'}, {'SA': 'green'}], [{'V': 'blue'}, {'NSW': 'red'}, {'Q': 'blue'}, {'NT': 'red'}, {'WA': 'blue'}, {'SA': 'green'}], [{'V': 'blue'}, {'NSW': 'green'}, {'Q': 'blue'}, {'NT': 'green'}, {'WA': 'blue'}, {'SA': 'green'}], [{'V': 'green'}, {'NSW': 'red'}, {'Q': 'green'}, {'NT': 'red'}, {'WA': 'green'}, {'SA': 'green'}], [{'V': 'green'}, {'NSW': 'blue'}, {'Q': 'green'}, {'NT': 'blue'}, {'WA': 'green'}, {'SA': 'green'}]]\n",
      "Wall time: 63 ms\n"
     ]
    }
   ],
   "source": [
    "%%time\n",
    "V, C = color_problem()\n",
    "csp = GSSolver(V,C)\n",
    "csp.solve()\n",
    "print('There are {} solutions:'.format(len(csp.solution)))\n",
    "lkup = {v:k for k,v in colors.items()}\n",
    "print([[{v.name:lkup[v.value]} for v in s] for s in csp.solution])"
   ]
  },
  {
   "cell_type": "markdown",
   "metadata": {},
   "source": [
    "The next example contains the implementation of the most-constrained variable heuristic. This is implemented in the `HGSSolver` where the H stands for heuristic."
   ]
  },
  {
   "cell_type": "code",
   "execution_count": 15,
   "metadata": {
    "scrolled": true
   },
   "outputs": [
    {
     "name": "stdout",
     "output_type": "stream",
     "text": [
      "There are 6 solutions:\n",
      "[[{'SA': 'red'}, {'NSW': 'blue'}, {'Q': 'green'}, {'NT': 'blue'}, {'V': 'green'}, {'WA': 'green'}], [{'SA': 'red'}, {'NSW': 'green'}, {'Q': 'blue'}, {'NT': 'green'}, {'V': 'blue'}, {'WA': 'blue'}], [{'SA': 'blue'}, {'NSW': 'red'}, {'Q': 'green'}, {'NT': 'red'}, {'V': 'green'}, {'WA': 'green'}], [{'SA': 'blue'}, {'NSW': 'green'}, {'Q': 'red'}, {'NT': 'green'}, {'V': 'red'}, {'WA': 'red'}], [{'SA': 'green'}, {'NSW': 'red'}, {'Q': 'blue'}, {'NT': 'red'}, {'V': 'blue'}, {'WA': 'blue'}], [{'SA': 'green'}, {'NSW': 'blue'}, {'Q': 'red'}, {'NT': 'blue'}, {'V': 'red'}, {'WA': 'red'}]]\n",
      "Wall time: 19 ms\n"
     ]
    }
   ],
   "source": [
    "%%time\n",
    "V, C = color_problem()\n",
    "csp = HGSSolver(V,C)\n",
    "csp.solve()\n",
    "print('There are {} solutions:'.format(len(csp.solution)))\n",
    "lkup = {v:k for k,v in colors.items()}\n",
    "print([[{v.name:lkup[v.value]} for v in s] for s in csp.solution])"
   ]
  },
  {
   "cell_type": "markdown",
   "metadata": {},
   "source": [
    "Yet again, a nice boost in performance. However, this is not useful when there is a problem where each variable has the same set of constraints, i.e. a $\\textrm{AllDiff}$ constraint which contains all the variables. This problem cannot be ordered by the most-constrained variable, because each variable is equally constrained."
   ]
  },
  {
   "cell_type": "markdown",
   "metadata": {},
   "source": [
    "# Inference (`IGSSolver`)"
   ]
  },
  {
   "cell_type": "markdown",
   "metadata": {},
   "source": [
    "## Cycling"
   ]
  },
  {
   "cell_type": "markdown",
   "metadata": {},
   "source": [
    "Now how can we speed up the $O(100^{100})$ complexity problem? We know that each variable should be different. Therefore can infer that we shouldn't use the value of the previous variable. Instead, it should cycle through the domain, whilst assigning variables. If it starts at $0$ and cycles through to $99$, the first generated world is also a solution, massive speed up!\n",
    "\n",
    "But variables can contain different domains, so we can only cycle through the domain of the variable, if the previously assigned variable has the same domain.\n",
    "\n",
    "Therefore we can state that if the previous assigned variable domain is equal to the current one, we can increment the value with modulo $\\max \\{\\textrm{dom}(V_k)\\}$. To do this, the loop where we iterate over all the domains, should shift it values (wrapping around) such that the increment is the first element in the list.\n",
    "\n",
    "A more sophisticated and generic approach is described in the next section."
   ]
  },
  {
   "cell_type": "markdown",
   "metadata": {},
   "source": [
    "## Domain pruning (forward checking for $\\textrm{AllDiff}$)"
   ]
  },
  {
   "cell_type": "markdown",
   "metadata": {},
   "source": [
    "If any $\\mathrm{AllDiff}$ constraints are used, we can infer some information about the domains of other variables that are in the same $\\mathrm{AllDiff}$. Let the variables be $\\mathscr{V}=\\{V_1,V_2,V_3,V_4,V_5\\}$ with domain $\\textrm{dom}(V_k) = \\{1,\\ldots,k\\}$ where $k=5$. Under the constraint that $\\textrm{AllDiff}(V_2,V_3,V_4)$. Assume $V_2=1$. By inference, we know that $V_3$ and $V_4$ cannot equal $V_2=1$. Therefore, when assigning $V_2$, the algorithm should check in which $\\textrm{AllDiff}$s the variable is used, and remove the assigned value from the domain of the other variables that are in the $\\textrm{AllDiff}$.\n",
    "\n",
    "**Domain pruning algorithm:** Let $\\mathscr{V}=\\{V_1,V_2,\\ldots,V_k\\}$ with $\\textrm{dom}(V_k)=\\{0,1,2,\\ldots,k-1\\}$ where all the variables share the constraint $\\textrm{AllDiff}(V_1,V_2,\\ldots,V_k)$.\n",
    "\n",
    " 1. Start with $k=0$.\n",
    " 2. Take the first value $v$ from $\\textrm{dom}(V_k)$.\n",
    "   1. If $\\textrm{dom}(V_k) = \\emptyset$ then set $V_k=v$ and goto 6. \n",
    " 3. Set the variable $V_k=v$.\n",
    " 4. Remove $v$ from the domain of all variables $V$ that come after $V_k$.\n",
    " 5. Increment $k$ by one.\n",
    " 6. For any other variables, goto 2.\n",
    " \n",
    "This will result in the following domains for the first world:\n",
    "\n",
    "$$ \\begin{align} \\textrm{dom}(V_1) &= \\{0,1,2,\\ldots,k-1\\} \\\\ \\textrm{dom}(V_2) &= \\{1,2,\\ldots,k-1\\} \\\\ \\textrm{dom}(V_3) &= \\{2,\\ldots,k-1\\} \\\\ &\\vdots \\\\ \\textrm{dom}(V_k) &= \\{k-1\\} \\end{align}$$\n",
    "\n",
    "It might be obvious, but the important part is that this algorithm will always pick a different value than the previous assigned value. The algorithm assumes that all the variables in the $\\textrm{AllDiff}$ have an equal domain. The first solution is also a model of the $O(100^{100})$ problem, which means that it achieves the same behaviour as described in previous section (cycling)."
   ]
  },
  {
   "cell_type": "markdown",
   "metadata": {},
   "source": [
    "## Forward checking (for other constraints)"
   ]
  },
  {
   "cell_type": "markdown",
   "metadata": {},
   "source": [
    "## Arc consistencies"
   ]
  },
  {
   "cell_type": "markdown",
   "metadata": {},
   "source": [
    "# Applications"
   ]
  },
  {
   "cell_type": "markdown",
   "metadata": {},
   "source": [
    "## Sudoku solver"
   ]
  },
  {
   "cell_type": "markdown",
   "metadata": {},
   "source": [
    "In a Sudoku puzzle there are $9^{53}$ possible worlds, bounded by $27$ constraints, meaning the number of solutions the algorithm needs to check is:"
   ]
  },
  {
   "cell_type": "code",
   "execution_count": 16,
   "metadata": {},
   "outputs": [
    {
     "data": {
      "text/plain": [
       "10144175740568179028790664417176723510595582355545683"
      ]
     },
     "execution_count": 16,
     "metadata": {},
     "output_type": "execute_result"
    }
   ],
   "source": [
    "27*9**53"
   ]
  },
  {
   "cell_type": "markdown",
   "metadata": {},
   "source": [
    "It is possible to create model for the Sudoku problem with $27\\ \\textrm{AllDiff}$ constraints:\n",
    " * $9$ for each row\n",
    " * $9$ for each column\n",
    " * $9$ for each square \n",
    " \n",
    "_This requires a solver with an implementation of domain pruning (forward checking for $\\textrm{AllDiff}$)._"
   ]
  },
  {
   "cell_type": "markdown",
   "metadata": {},
   "source": [
    "### Mini-sudoku (4x4)"
   ]
  },
  {
   "cell_type": "markdown",
   "metadata": {},
   "source": [
    "A 4x4 sudoku is created with the following grid:\n",
    "\n",
    "![sudoku_4x4](../img/4x4_sudoku.png)\n",
    "\n",
    "The puzzle has a solution space of $9\\cdot16^4$. This requires some clever algorithms to solve quickly. The example below demonstrates a 4x4 sudoku problem:"
   ]
  },
  {
   "cell_type": "code",
   "execution_count": 17,
   "metadata": {},
   "outputs": [
    {
     "data": {
      "text/plain": [
       "589824"
      ]
     },
     "execution_count": 17,
     "metadata": {},
     "output_type": "execute_result"
    }
   ],
   "source": [
    "9*16**4"
   ]
  },
  {
   "cell_type": "code",
   "execution_count": 26,
   "metadata": {
    "scrolled": false
   },
   "outputs": [
    {
     "name": "stdout",
     "output_type": "stream",
     "text": [
      "4 3   2 1\r\n",
      "1 2   3 4\r\n",
      "\r\n",
      "3 4   1 2\r\n",
      "2 1   4 3\r\n",
      "\n",
      "Wall time: 34 ms\n"
     ]
    }
   ],
   "source": [
    "%%time\n",
    "X = [Variable('x{}'.format(x), list(range(1,5))) for x in range(16)]\n",
    "\n",
    "# Rows\n",
    "c1 = AllDiff([X[0], X[1], X[2], X[3]])\n",
    "c2 = AllDiff([X[4], X[5], X[6], X[7]])\n",
    "c3 = AllDiff([X[8], X[9], X[10], X[11]])\n",
    "c4 = AllDiff([X[12], X[13], X[14], X[15]])\n",
    "\n",
    "# Columns\n",
    "c5 = AllDiff([X[0], X[4], X[8], X[12]])\n",
    "c6 = AllDiff([X[1], X[5], X[9], X[13]])\n",
    "c7 = AllDiff([X[2], X[6], X[10], X[14]])\n",
    "c8 = AllDiff([X[3], X[7], X[11], X[15]])\n",
    "\n",
    "# Squares\n",
    "c9 = AllDiff([X[0], X[1], X[4], X[5]])\n",
    "c10 = AllDiff([X[2], X[3], X[6], X[7]])\n",
    "c11 = AllDiff([X[8], X[9], X[12], X[13]])\n",
    "c12 = AllDiff([X[10], X[11], X[14], X[15]])\n",
    "\n",
    "# https://1sudoku.com/play/sudoku-kids-free/sudoku-4x4/\n",
    "c13 = Constraint('x3==1', [X[3]])\n",
    "c14 = Constraint('x5==2', [X[5]])\n",
    "c15 = Constraint('x6==3', [X[6]])\n",
    "c16 = Constraint('x9==4', [X[9]])\n",
    "c17 = Constraint('x10==1', [X[10]])\n",
    "c18 = Constraint('x12==2', [X[12]])\n",
    "\n",
    "csp = HGSSolver(X,[c1,c2,c3,c4,c5,c6,c7,c8,c9,c10,c11,c12,c13,c14,c15,c16,c17,c18])\n",
    "csp.stop_on_first = True\n",
    "S = csp.solve()\n",
    "\n",
    "def f(k,V): return head([v.value for v in V if v.name==k])\n",
    "def print_sudoku(s):\n",
    "     print('{} {}   {} {}\\r\\n{} {}   {} {}\\r\\n\\r\\n{} {}   {} {}\\r\\n{} {}   {} {}\\r\\n'\n",
    "          .format(f('x0',s),f('x1',s),f('x2',s),f('x3',s),\n",
    "                  f('x4',s),f('x5',s),f('x6',s),f('x7',s),\n",
    "                  f('x8',s),f('x9',s),f('x10',s),f('x11',s),\n",
    "                  f('x12',s),f('x13',s),f('x14',s),f('x15',s)))   \n",
    "        \n",
    "print_sudoku(head(S))"
   ]
  },
  {
   "cell_type": "markdown",
   "metadata": {},
   "source": [
    "The size of the search space $9\\cdot16^4=589824$ with a total of $4!×2×2×3=288$ solutions."
   ]
  },
  {
   "cell_type": "code",
   "execution_count": 23,
   "metadata": {},
   "outputs": [
    {
     "name": "stdout",
     "output_type": "stream",
     "text": [
      "There are 288 solutions for a 4x4 sudoku.\n",
      "Wall time: 7.86 s\n"
     ]
    }
   ],
   "source": [
    "%%time\n",
    "csp = HGSSolver(X,[c1,c2,c3,c4,c5,c6,c7,c8,c9,c10,c11,c12])\n",
    "S = csp.solve()\n",
    "print('There are {} solutions for a 4x4 sudoku.'.format(len(S)))"
   ]
  },
  {
   "cell_type": "markdown",
   "metadata": {},
   "source": [
    "Finding a single solution in an empty grid:"
   ]
  },
  {
   "cell_type": "code",
   "execution_count": 27,
   "metadata": {},
   "outputs": [
    {
     "name": "stdout",
     "output_type": "stream",
     "text": [
      "Solution: True\n",
      "Wall time: 33 ms\n"
     ]
    }
   ],
   "source": [
    "%%time\n",
    "csp = HGSSolver(X,[c1,c2,c3,c4,c5,c6,c7,c8,c9,c10,c11,c12])\n",
    "csp.stop_on_first = True\n",
    "S = csp.solve()\n",
    "print('Solution: {}'.format(len(S)>0))"
   ]
  },
  {
   "cell_type": "markdown",
   "metadata": {},
   "source": [
    "## N-Queens problem"
   ]
  },
  {
   "cell_type": "markdown",
   "metadata": {},
   "source": [
    "A smart way to formulate this problem is with $V_k$ variables, where each  variable is on row $k$."
   ]
  },
  {
   "cell_type": "markdown",
   "metadata": {},
   "source": [
    "_This requires a solver with an implementation for forward checking._"
   ]
  },
  {
   "cell_type": "code",
   "execution_count": null,
   "metadata": {},
   "outputs": [],
   "source": []
  }
 ],
 "metadata": {
  "kernelspec": {
   "display_name": "Python 3",
   "language": "python",
   "name": "python3"
  },
  "language_info": {
   "codemirror_mode": {
    "name": "ipython",
    "version": 3
   },
   "file_extension": ".py",
   "mimetype": "text/x-python",
   "name": "python",
   "nbconvert_exporter": "python",
   "pygments_lexer": "ipython3",
   "version": "3.6.3"
  }
 },
 "nbformat": 4,
 "nbformat_minor": 2
}
