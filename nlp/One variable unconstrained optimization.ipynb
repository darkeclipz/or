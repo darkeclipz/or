{
 "cells": [
  {
   "cell_type": "code",
   "execution_count": 11,
   "metadata": {},
   "outputs": [
    {
     "name": "stdout",
     "output_type": "stream",
     "text": [
      "Populating the interactive namespace from numpy and matplotlib\n"
     ]
    }
   ],
   "source": [
    "%pylab inline\n",
    "import pandas as pd"
   ]
  },
  {
   "cell_type": "code",
   "execution_count": 40,
   "metadata": {},
   "outputs": [],
   "source": [
    "font = {'size': 16}\n",
    "matplotlib.rc('font', **font)"
   ]
  },
  {
   "cell_type": "markdown",
   "metadata": {},
   "source": [
    "# One variable unconstrained optimization"
   ]
  },
  {
   "cell_type": "markdown",
   "metadata": {},
   "source": [
    "This document will cover two methods for one variable unconstrained optimization. These two methods are:\n",
    "\n",
    " * Bisection method\n",
    " * Newton's method\n",
    " \n",
    "Newton's method is considered superior because it will find a solution in less iterations than the bisection method. Still, both methods will be explained and implemented in this document. At the end we will compare both methods to see how much better Newton's method actually is."
   ]
  },
  {
   "cell_type": "markdown",
   "metadata": {},
   "source": [
    "## Bisection method"
   ]
  },
  {
   "cell_type": "markdown",
   "metadata": {},
   "source": [
    "### Finding roots of a function"
   ]
  },
  {
   "cell_type": "markdown",
   "metadata": {},
   "source": [
    "With the bisection method we will be able to find the root of a function. Or more explicitly, find the root of a function on any interval $[a,b]$. Of course the function should actually have a root on the interval $[a,b]$, otherwise it won't work. The following illustation should explain the idea on how to find the root:"
   ]
  },
  {
   "cell_type": "markdown",
   "metadata": {},
   "source": [
    "![bisection](bisection.gif)"
   ]
  },
  {
   "cell_type": "markdown",
   "metadata": {},
   "source": [
    "We can check if $f$ has a root on the interval $[a,b]$. If $f(a)$ and $f(b)$ are both positive or negative (meaning that there is no root on the interval $[a,b]$), the product $f(a)\\cdot f(b)$ will be positive. If $f(a)$ or $f(b)$ have unequal signs, the product $f(a)\\cdot f(b)$ will be negative, which means that there is a root on the interval $[a,b]$."
   ]
  },
  {
   "cell_type": "markdown",
   "metadata": {},
   "source": [
    "### A minimization problem"
   ]
  },
  {
   "cell_type": "markdown",
   "metadata": {},
   "source": [
    "Let use consider the following minimization problem:\n",
    "\n",
    "$$ \\min Z = x^4 + x^2 - 4x$$"
   ]
  },
  {
   "cell_type": "markdown",
   "metadata": {},
   "source": [
    "Let $f = x^4 + x^2 -4x$, we first create a graph of $f$:"
   ]
  },
  {
   "cell_type": "code",
   "execution_count": 61,
   "metadata": {},
   "outputs": [
    {
     "data": {
      "image/png": "[encoded data removed]",
      "text/plain": [
       "<matplotlib.figure.Figure at 0x210deee2908>"
      ]
     },
     "metadata": {},
     "output_type": "display_data"
    }
   ],
   "source": [
    "X = np.linspace(-2, 2, 40)\n",
    "Y = [(lambda x: x**4 + x**2 - 4*x)(x) for x in X]\n",
    "plot(X,Y,c='b',lw=2); grid()\n",
    "axhline(0, lw=1, ls='dashed', c='black')\n",
    "title('Graph of $f$')\n",
    "xlabel('$x$'); ylabel('$f(x)$'); legend(['$x^4+x^2-4x$']);"
   ]
  },
  {
   "cell_type": "markdown",
   "metadata": {},
   "source": [
    "Because we want to minimize $Z$, we have to find the global minimum of the graph of $f$. We can see that the minimum lies on the interval $[a,b]$. However, with the bisection method we will only find the root of a function, which in this case, leads us to two points that intersect with the x-axis.\n",
    "\n",
    "We know that if we differentiate $f$, we can find a local minima where $\\dfrac{df}{dx} = 0$, which is a root of $f'$! To illustrate the idea, let's create a graph of $f'(x)$:"
   ]
  },
  {
   "cell_type": "code",
   "execution_count": 70,
   "metadata": {},
   "outputs": [
    {
     "data": {
      "image/png": "[encoded data removed]",
      "text/plain": [
       "<matplotlib.figure.Figure at 0x210e1596b38>"
      ]
     },
     "metadata": {},
     "output_type": "display_data"
    }
   ],
   "source": [
    "X = np.linspace(-2, 2, 40)\n",
    "Y = [(lambda x: 4*x**3 + 2*x - 4)(x) for x in X]\n",
    "plot(X,Y,c='b',lw=2); grid()\n",
    "axhline(0, lw=1, ls='dashed', c='black')\n",
    "title('Graph of $f\\'$')\n",
    "xlabel('$x$'); ylabel('$f\\'(x)$'); legend(['$4x^3 + 2x - 4$']);"
   ]
  },
  {
   "cell_type": "markdown",
   "metadata": {},
   "source": [
    "If we find $\\dfrac{df}{dx}$, the global minimum will be at $\\dfrac{df}{dx}=0$. This means that we can use the bisection algorithm to find the root of $f'$, which will be the global minimum of $f$."
   ]
  },
  {
   "cell_type": "markdown",
   "metadata": {},
   "source": [
    "### Bisection algorithm"
   ]
  },
  {
   "cell_type": "markdown",
   "metadata": {},
   "source": [
    "Let $f$ denote a function with a root on the interval $[a,b]$. We will denote the left endpoint with $\\underline{x}$, and the right endpoint with $\\overline{x}$. The center point is $x'$. Finally, the error margin is $\\epsilon$.\n",
    "\n",
    "**Algorithm (bisection method / minimize):**\n",
    "\n",
    "1. Determine $f'(x)$.\n",
    "2. Select $\\underline{x}=a$, $\\overline{x}=b$, and $\\epsilon$.\n",
    "3. Determine $x'= (\\underline{x} + \\overline{x})\\ /\\ 2 $\n",
    "4. Iterate:\n",
    "  1. Determine $f'$ for $x=x'$.\n",
    "  2. If $f(x) \\geq 0$ then set $\\underline{x} := x'$.\n",
    "  3. If $f(x) \\leq 0$ then set $\\overline{x} := x'$.\n",
    "  4. Set $x'= (\\underline{x} + \\overline{x})\\ /\\ 2 $\n",
    "5. Goto 4 until $f'(x') \\leq \\epsilon$."
   ]
  },
  {
   "cell_type": "code",
   "execution_count": 71,
   "metadata": {},
   "outputs": [
    {
     "data": {
      "text/html": [
       "<div>\n",
       "<style scoped>\n",
       "    .dataframe tbody tr th:only-of-type {\n",
       "        vertical-align: middle;\n",
       "    }\n",
       "\n",
       "    .dataframe tbody tr th {\n",
       "        vertical-align: top;\n",
       "    }\n",
       "\n",
       "    .dataframe thead th {\n",
       "        text-align: right;\n",
       "    }\n",
       "</style>\n",
       "<table border=\"1\" class=\"dataframe\">\n",
       "  <thead>\n",
       "    <tr style=\"text-align: right;\">\n",
       "      <th></th>\n",
       "      <th>df_dx</th>\n",
       "      <th>left endpoint</th>\n",
       "      <th>right_endpoint</th>\n",
       "      <th>new_x</th>\n",
       "    </tr>\n",
       "  </thead>\n",
       "  <tbody>\n",
       "    <tr>\n",
       "      <th>0</th>\n",
       "      <td>-2.500000</td>\n",
       "      <td>0.000000</td>\n",
       "      <td>1.000000</td>\n",
       "      <td>0.500000</td>\n",
       "    </tr>\n",
       "    <tr>\n",
       "      <th>1</th>\n",
       "      <td>-0.812500</td>\n",
       "      <td>0.500000</td>\n",
       "      <td>1.000000</td>\n",
       "      <td>0.750000</td>\n",
       "    </tr>\n",
       "    <tr>\n",
       "      <th>2</th>\n",
       "      <td>0.429688</td>\n",
       "      <td>0.750000</td>\n",
       "      <td>1.000000</td>\n",
       "      <td>0.875000</td>\n",
       "    </tr>\n",
       "    <tr>\n",
       "      <th>3</th>\n",
       "      <td>-0.229492</td>\n",
       "      <td>0.750000</td>\n",
       "      <td>0.875000</td>\n",
       "      <td>0.812500</td>\n",
       "    </tr>\n",
       "    <tr>\n",
       "      <th>4</th>\n",
       "      <td>0.090210</td>\n",
       "      <td>0.812500</td>\n",
       "      <td>0.875000</td>\n",
       "      <td>0.843750</td>\n",
       "    </tr>\n",
       "    <tr>\n",
       "      <th>5</th>\n",
       "      <td>-0.072067</td>\n",
       "      <td>0.812500</td>\n",
       "      <td>0.843750</td>\n",
       "      <td>0.828125</td>\n",
       "    </tr>\n",
       "    <tr>\n",
       "      <th>6</th>\n",
       "      <td>0.008459</td>\n",
       "      <td>0.828125</td>\n",
       "      <td>0.843750</td>\n",
       "      <td>0.835938</td>\n",
       "    </tr>\n",
       "    <tr>\n",
       "      <th>7</th>\n",
       "      <td>-0.031956</td>\n",
       "      <td>0.828125</td>\n",
       "      <td>0.835938</td>\n",
       "      <td>0.832031</td>\n",
       "    </tr>\n",
       "    <tr>\n",
       "      <th>8</th>\n",
       "      <td>-0.011787</td>\n",
       "      <td>0.832031</td>\n",
       "      <td>0.835938</td>\n",
       "      <td>0.833984</td>\n",
       "    </tr>\n",
       "    <tr>\n",
       "      <th>9</th>\n",
       "      <td>-0.001673</td>\n",
       "      <td>0.833984</td>\n",
       "      <td>0.835938</td>\n",
       "      <td>0.834961</td>\n",
       "    </tr>\n",
       "    <tr>\n",
       "      <th>10</th>\n",
       "      <td>0.003390</td>\n",
       "      <td>0.834961</td>\n",
       "      <td>0.835938</td>\n",
       "      <td>0.835449</td>\n",
       "    </tr>\n",
       "    <tr>\n",
       "      <th>11</th>\n",
       "      <td>0.000858</td>\n",
       "      <td>0.834961</td>\n",
       "      <td>0.835449</td>\n",
       "      <td>0.835205</td>\n",
       "    </tr>\n",
       "  </tbody>\n",
       "</table>\n",
       "</div>"
      ],
      "text/plain": [
       "       df_dx  left endpoint  right_endpoint     new_x\n",
       "0  -2.500000       0.000000        1.000000  0.500000\n",
       "1  -0.812500       0.500000        1.000000  0.750000\n",
       "2   0.429688       0.750000        1.000000  0.875000\n",
       "3  -0.229492       0.750000        0.875000  0.812500\n",
       "4   0.090210       0.812500        0.875000  0.843750\n",
       "5  -0.072067       0.812500        0.843750  0.828125\n",
       "6   0.008459       0.828125        0.843750  0.835938\n",
       "7  -0.031956       0.828125        0.835938  0.832031\n",
       "8  -0.011787       0.832031        0.835938  0.833984\n",
       "9  -0.001673       0.833984        0.835938  0.834961\n",
       "10  0.003390       0.834961        0.835938  0.835449\n",
       "11  0.000858       0.834961        0.835449  0.835205"
      ]
     },
     "execution_count": 71,
     "metadata": {},
     "output_type": "execute_result"
    },
    {
     "data": {
      "image/png": "[encoded data removed]",
      "text/plain": [
       "<matplotlib.figure.Figure at 0x210e160ebe0>"
      ]
     },
     "metadata": {},
     "output_type": "display_data"
    }
   ],
   "source": [
    "def opt_bisection1d_min(f, a, b, eps):\n",
    "    \n",
    "    # determine starting variables\n",
    "    result = []\n",
    "    x = (a+b)/2\n",
    "    \n",
    "    # check that there is a root on the interval [a,b]\n",
    "    if f(a) * f(b) >= 0: \n",
    "        raise ValueError('function has no root on interval [a, b]!')\n",
    "        \n",
    "    # bisection algorithm\n",
    "    while abs(f(x)) > eps:\n",
    "        if f(x) >= 0: b = x\n",
    "        else: a = x\n",
    "        x = (a+b) / 2\n",
    "        result.append((f(x), a, b, x))\n",
    "        \n",
    "    # results as a dataframe\n",
    "    DFDX, A, B, X = zip(*result)\n",
    "    df = pd.DataFrame()\n",
    "    df['df_dx'] = DFDX\n",
    "    df['left endpoint'] = A\n",
    "    df['right_endpoint'] = B\n",
    "    df['new_x'] = X\n",
    "    \n",
    "    # error plot\n",
    "    bar(df.index, abs(df['df_dx']), fc='r')\n",
    "    axhline(0, c='black', ls='dashed', lw=1)\n",
    "    grid(); title('Error of $f\\'(x\\')$')\n",
    "    xlabel('Iteration'); ylabel('Absolute Error')\n",
    "    \n",
    "    return df\n",
    "\n",
    "# testing the algorithm for:   min Z = x^4 + x^2 - 4x\n",
    "opt_bisection1d_min(lambda x: 4*x**3 + 2*x - 4, 0, 2, 0.001)"
   ]
  },
  {
   "cell_type": "markdown",
   "metadata": {},
   "source": [
    "## Netwon's method"
   ]
  },
  {
   "cell_type": "markdown",
   "metadata": {},
   "source": [
    "Oh yeah baby Newton..."
   ]
  },
  {
   "cell_type": "markdown",
   "metadata": {},
   "source": [
    "# References"
   ]
  },
  {
   "cell_type": "markdown",
   "metadata": {},
   "source": [
    "1. Introduction to Operations Research, Hillier/Lieberman, chapter 13."
   ]
  }
 ],
 "metadata": {
  "kernelspec": {
   "display_name": "Python 3",
   "language": "python",
   "name": "python3"
  },
  "language_info": {
   "codemirror_mode": {
    "name": "ipython",
    "version": 3
   },
   "file_extension": ".py",
   "mimetype": "text/x-python",
   "name": "python",
   "nbconvert_exporter": "python",
   "pygments_lexer": "ipython3",
   "version": "3.6.5"
  }
 },
 "nbformat": 4,
 "nbformat_minor": 2
}
